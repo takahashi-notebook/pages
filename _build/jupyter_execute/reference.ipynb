{
 "cells": [
  {
   "cell_type": "markdown",
   "metadata": {},
   "source": [
    "# 参考文献\n",
    "\n",
    "・machine learning  \n",
    "Aurélien Géron, 下田 倫大(監訳), 長尾 高弘(翻訳)  \n",
    "scikit-learn、Keras、TensorFlowによる実践機械学習  \n",
    "O'Reilly Japan  \n",
    "https://github.com/ageron/handson-ml2\n",
    "  \n",
    "・Deep Learning  \n",
    "ゼロから作る Deep Learning  \n",
    "O'Reilly Japan  \n",
    "https://github.com/oreilly-japan/deep-learning-from-scratch\n",
    "  \n",
    "・Deep Learning  \n",
    "ゼロから作る Deep Learning 2  \n",
    "O'Reilly Japan  \n",
    "https://github.com/oreilly-japan/deep-learning-from-scratch-2\n",
    "  \n",
    "・Block Chain 1.0  \n",
    "Jimmy Song, 中川 卓俊(監訳), 住田 和則(監訳), 中村 昭雄(監訳), 星野 靖子(翻訳)  \n",
    "プログラミング・ビットコイン  \n",
    "O'Reilly Japan  \n",
    "https://github.com/jimmysong/programmingbitcoin\n",
    "  \n",
    "・Block Chain 2.0    \n",
    "Kevin Solorio, Randall Kanna, David H. Hoover, 中城 元臣(監訳), 株式会社クイープ(翻訳)  \n",
    "SolidityとEthereumによる実践スマートコントラクト開発  \n",
    "O'Reilly Japan  \n",
    "https://github.com/RedSquirrelTech/hoscdev\n",
    "  \n",
    "・Block Chain 3.0\n",
    "  \n",
    "・Quantum Computing  \n",
    "Qiskitを使った量子計算の学習  \n",
    "https://qiskit.org/textbook/ja/ch-machine-learning/machine-learning-qiskit-pytorch.html  \n",
    "  \n",
    "・Quantum Computing  \n",
    "量子コンピューティング・ワークブック  \n",
    "https://utokyo-icepp.github.io/qc-workbook/welcome.html"
   ]
  },
  {
   "cell_type": "markdown",
   "metadata": {},
   "source": []
  }
 ],
 "metadata": {
  "kernelspec": {
   "display_name": "Python 3",
   "language": "python",
   "name": "python3"
  },
  "language_info": {
   "codemirror_mode": {
    "name": "ipython",
    "version": 3
   },
   "file_extension": ".py",
   "mimetype": "text/x-python",
   "name": "python",
   "nbconvert_exporter": "python",
   "pygments_lexer": "ipython3",
   "version": "3.8.0"
  },
  "widgets": {
   "application/vnd.jupyter.widget-state+json": {
    "state": {},
    "version_major": 2,
    "version_minor": 0
   }
  }
 },
 "nbformat": 4,
 "nbformat_minor": 4
}