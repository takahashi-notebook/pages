{
 "cells": [
  {
   "cell_type": "markdown",
   "metadata": {},
   "source": [
    "# python開発環境\n",
    "\n",
    "## インストール用のソフトウェアHOMEBREW\n",
    "HOME BREWのインストール\n",
    "/bin/bash -c \"$(curl -fsSL https://raw.githubusercontent.com/Homebrew/install/master/install.sh)\"  \n",
    "  \n",
    "## python3\n",
    "python3のインストール  \n",
    "brew install python  \n",
    "  \n",
    "python3インストール場所確認  \n",
    "which python3  \n",
    "  \n",
    "python3バージョンの確認  \n",
    "python3 --version  \n",
    "  \n",
    "pip（pythonライブラリインストール用のライブラリ）のアップグレード  \n",
    "python3 -m pip install --upgrade pip  \n",
    "  \n",
    "## Git\n",
    "Gitのインストール    \n",
    "brew install git  \n",
    "  \n",
    "Gitのインストール場所確認  \n",
    "which git  \n",
    "  \n",
    "Gitのバージョン確認  \n",
    "git --version  \n",
    "  \n",
    "Gitの設定  \n",
    "git config --global user.name \"xxx\"  \n",
    "git config --global user.email xxx@xxx.xxx  \n",
    "  \n",
    "Gitの設定確認  \n",
    "git config --list \n",
    "  \n",
    "## 仮想環境\n",
    "venvで仮想環境を作成する  \n",
    "python3.10 -m venv .**** (例：.venv)  \n",
    "  \n",
    "## notebook\n",
    "notebookのインストール  \n",
    "python3 -m pip install jupyter  \n",
    "  \n",
    "## VS codeのpython設定  \n",
    "pythonのextensionをインストール\n",
    "Extensions >  Python\n",
    "  \n",
    "python3の場所を設定する  \n",
    "setting > command palette > python select interpreter >  \n",
    "  \n",
    "VS codeの設定確認  \n",
    "VS code > terminal > which python  \n",
    "VS code > terminal > python --version  \n",
    "  \n",
    "VS codeのエディタ設定  \n",
    "setting > command palette > python linting enabled  \n",
    "setting > command palette > python linting flake8  \n",
    "  \n",
    "VS code で git clone  \n",
    "setting > command palette > git clone  \n",
    "\n",
    "## Jupyter Book  \n",
    "Jupyter Bookのインストール   \n",
    "pip3 install -U jupyter-book  "
   ]
  },
  {
   "cell_type": "markdown",
   "metadata": {},
   "source": []
  }
 ],
 "metadata": {
  "kernelspec": {
   "display_name": "Python 3",
   "language": "python",
   "name": "python3"
  },
  "language_info": {
   "codemirror_mode": {
    "name": "ipython",
    "version": 3
   },
   "file_extension": ".py",
   "mimetype": "text/x-python",
   "name": "python",
   "nbconvert_exporter": "python",
   "pygments_lexer": "ipython3",
   "version": "3.9.9"
  },
  "widgets": {
   "application/vnd.jupyter.widget-state+json": {
    "state": {},
    "version_major": 2,
    "version_minor": 0
   }
  }
 },
 "nbformat": 4,
 "nbformat_minor": 4
}