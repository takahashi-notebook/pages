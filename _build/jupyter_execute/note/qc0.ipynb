{
 "cells": [
  {
   "cell_type": "markdown",
   "metadata": {},
   "source": [
    "# Quantum Computing \n",
    "\n",
    "Quantum Computingの種類  \n",
    "・量子アニーリング方式  \n",
    "　組み合わせ最適化問題に特化  \n",
    "　D waveが実用化している  \n",
    "　ビット数が多い\n",
    "  \n",
    "・量子ゲート方式  \n",
    "　汎用性のあるコンピュータ  \n",
    "　IBM が実用化している  \n",
    "　ビット数が少ない  \n"
   ]
  },
  {
   "cell_type": "markdown",
   "metadata": {},
   "source": []
  }
 ],
 "metadata": {
  "kernelspec": {
   "display_name": "Python 3",
   "language": "python",
   "name": "python3"
  },
  "language_info": {
   "codemirror_mode": {
    "name": "ipython",
    "version": 3
   },
   "file_extension": ".py",
   "mimetype": "text/x-python",
   "name": "python",
   "nbconvert_exporter": "python",
   "pygments_lexer": "ipython3",
   "version": "3.9.9"
  },
  "widgets": {
   "application/vnd.jupyter.widget-state+json": {
    "state": {},
    "version_major": 2,
    "version_minor": 0
   }
  }
 },
 "nbformat": 4,
 "nbformat_minor": 4
}