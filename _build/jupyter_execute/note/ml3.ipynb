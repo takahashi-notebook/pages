{
 "cells": [
  {
   "cell_type": "markdown",
   "metadata": {},
   "source": [
    "# Natural Language Processing\n",
    "\n",
    "Natural Language Processingの種類  \n",
    "・シソーラス（上位・下位概念の辞書）  \n",
    "・カウントベース  単語の類似性性をベクトルで表現する。単語数が多いと計算時間がかかる。オンライン学習できない。  \n",
    "・推論ベース  ミニバッチで計算できるため、オンライン学習できる。  \n",
    "・カウントベース  \n",
    "\n",
    "ある単語の付近で使用される単語をカウントしてベクトル表示する  \n",
    "co-occurance matrix:  \n",
    "ある単語の付近で使用された単語の回数を表すの2次元行列（ベクトル表示を並べて行列表示したもの）    \n",
    "  \n",
    "Pointwise Mutual Information：  \n",
    "co-occurance matrixを同時に使用される確率に変更したもの  \n",
    "  \n",
    "Positive PMI :  \n",
    "対数の発散対策のため、PMIで0以下を0としたもの  \n",
    "ppmi = max(0, PMI(x,y))   \n",
    "Singurar Value Decomposition  \n",
    "U, S, V = np.linalg.svd(W)  \n",
    "で変換したうちの最初の方を使用することで圧縮できる。  \n",
    "SVDの計算はO(N^3)  \n",
    "高速化したtruncated SVD  \n",
    "\n",
    "手順  \n",
    "文章から単語idとword変換辞書を作成する。  \n",
    "文章を単語idの順に変換する。  \n",
    "co-occurence-matrixを作成する。  \n",
    "ppmiに変換する。  \n",
    "SVD変換する。  \n",
    "\n",
    "・推論ベース  word2vec  \n",
    "continuous bag-of-words  \n",
    "2つの単語から挟まれる単語を推論する。入力層が2つ、出力層が１つ。  \n",
    "P(w_t|w_t-1,w_t+1)  \n",
    "L = -logP(w_t|w_t-1,w_t+1)  \n",
    "skip-gram  \n",
    "１つの単語から前後の単語を推測する。入力層が１つ、出力層が２つ  \n",
    "P(w_t-1,w_t+1|w_t)  \n",
    "L = -logP(w_t-1,w_t+1|w_t)  \n",
    "  = -logP(w_t-1|w_t)P(w_t+1|w_t)  \n",
    "  = -logP(w_t-1|w_t)-logP(w_t+1|w_t)\n",
    "\n",
    "計算の簡略化  \n",
    "・Embedding  \n",
    "入力が単語idを表すone-hotの場合、ある列を指定して抜き取れば、最初の層は行列計算する必要がない。  \n",
    "・negative sampling  \n",
    "単語idの数に伴い行列の大きさ増えないように、正解とコーパスの頻度に応じたサンプルされた複数の不正解で計算する。  "
   ]
  },
  {
   "cell_type": "markdown",
   "metadata": {},
   "source": []
  },
  {
   "cell_type": "markdown",
   "metadata": {},
   "source": []
  }
 ],
 "metadata": {
  "kernelspec": {
   "display_name": "Python 3",
   "language": "python",
   "name": "python3"
  },
  "language_info": {
   "codemirror_mode": {
    "name": "ipython",
    "version": 3
   },
   "file_extension": ".py",
   "mimetype": "text/x-python",
   "name": "python",
   "nbconvert_exporter": "python",
   "pygments_lexer": "ipython3",
   "version": "3.9.9"
  },
  "widgets": {
   "application/vnd.jupyter.widget-state+json": {
    "state": {},
    "version_major": 2,
    "version_minor": 0
   }
  }
 },
 "nbformat": 4,
 "nbformat_minor": 4
}