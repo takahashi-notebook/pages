{
 "cells": [
  {
   "cell_type": "markdown",
   "metadata": {},
   "source": [
    "# quantum algorithms\n",
    "\n",
    "Deutsch-Jozsa Algorithm  \n",
    "関数が定値型か分散型か判断するアルゴリスム  \n",
    "\n",
    "The Bernstein-Vazirani Algorithm  \n",
    "n-bitのbinaryを見つける  \n",
    "  \n",
    "Simon's Algorithm    \n",
    "  \n",
    "Groverのアルゴリズム  \n",
    "Nのデータを探索する複雑さをO(N)からO(N^1/2)に減らす。  \n",
    "この2次の速度の向上は、機械学習や最適化問題のような非構造化探索として表現できるタスクで役立つ可能性がある。  \n",
    "  \n",
    "ショアのアルゴリズム  \n",
    "因数分解O(e＾n^1/3)以上からO(n＾3)の計算量に減らす。  \n"
   ]
  },
  {
   "cell_type": "markdown",
   "metadata": {},
   "source": []
  }
 ],
 "metadata": {
  "kernelspec": {
   "display_name": "Python 3",
   "language": "python",
   "name": "python3"
  },
  "language_info": {
   "codemirror_mode": {
    "name": "ipython",
    "version": 3
   },
   "file_extension": ".py",
   "mimetype": "text/x-python",
   "name": "python",
   "nbconvert_exporter": "python",
   "pygments_lexer": "ipython3",
   "version": "3.9.9"
  },
  "widgets": {
   "application/vnd.jupyter.widget-state+json": {
    "state": {},
    "version_major": 2,
    "version_minor": 0
   }
  }
 },
 "nbformat": 4,
 "nbformat_minor": 4
}