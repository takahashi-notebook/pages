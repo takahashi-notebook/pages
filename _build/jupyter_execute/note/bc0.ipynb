{
 "cells": [
  {
   "cell_type": "markdown",
   "metadata": {},
   "source": [
    "# Block Chain\n",
    "\n",
    "ブロックチェーンとは  \n",
    "　狭義では、  \n",
    "　トランザクションの履歴（台帳）をブロックにまとめて、  \n",
    "　前回のブロックのハッシュを組み込みつつ、チェーンのように時系列につなげることで、  \n",
    "　一部の履歴を改竄すると組み込まれたハッシュ値がと整合性がなくなることを利用し、  \n",
    "　履歴が改竄されていないことを保証する技術  \n",
    "\n",
    "　広義では、  \n",
    "　トランザクションに伴い、  \n",
    "　狭義のブロックチェーンを自律的に生成する  \n",
    "　分散型の台帳管理システム  \n",
    "  \n",
    "・楕円暗号技術を利用した公開鍵とデジタル署名によりトランザクションの匿名性を担保する。  \n",
    "  \n",
    "・パブリックのブロックチェーンでは、  \n",
    "　P2P技術を利用したブロックチェーンの自動生成システムとブロックチェーン作成の報酬により、  \n",
    "　システムに参加しているコンピュータがインセンティブを求めて競うことで、  \n",
    "　システムを自律的に維持しつつ、ブロックチェーンの真正性を保証する。  \n",
    "  \n",
    "・プライベートのブロックチェーンでは、  \n",
    "　ブロック生成時の難易度やインセンティブが下げられ、トランザクション速度を上げている。  \n",
    "\n",
    "ブロックチェーンの種類  \n",
    "・ビットコイン(block chain 1.0)  \n",
    "　トランザクションが非チューリング完全なブロックチェーン  \n",
    "・イーサリアム(block chain 2.0)  \n",
    "　トランザクションがチューリング完全なブロックチェーン  "
   ]
  },
  {
   "cell_type": "markdown",
   "metadata": {},
   "source": []
  }
 ],
 "metadata": {
  "kernelspec": {
   "display_name": "Python 3",
   "language": "python",
   "name": "python3"
  },
  "language_info": {
   "codemirror_mode": {
    "name": "ipython",
    "version": 3
   },
   "file_extension": ".py",
   "mimetype": "text/x-python",
   "name": "python",
   "nbconvert_exporter": "python",
   "pygments_lexer": "ipython3",
   "version": "3.9.9"
  },
  "widgets": {
   "application/vnd.jupyter.widget-state+json": {
    "state": {},
    "version_major": 2,
    "version_minor": 0
   }
  }
 },
 "nbformat": 4,
 "nbformat_minor": 4
}