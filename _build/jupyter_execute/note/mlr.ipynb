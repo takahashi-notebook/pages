{
 "cells": [
  {
   "cell_type": "markdown",
   "metadata": {},
   "source": [
    "# 参考文献\n",
    "\n",
    "・machine learning  \n",
    "Aurélien Géron, 下田 倫大(監訳), 長尾 高弘(翻訳)  \n",
    "scikit-learn、Keras、TensorFlowによる実践機械学習  \n",
    "O'Reilly Japan  \n",
    "https://github.com/ageron/handson-ml2\n",
    "    \n",
    "・Deep Learning  \n",
    "ゼロから作る Deep Learning  \n",
    "O'Reilly Japan  \n",
    "https://github.com/oreilly-japan/deep-learning-from-scratch\n",
    "  \n",
    "・Deep Learning  \n",
    "ゼロから作る Deep Learning 2  \n",
    "O'Reilly Japan  \n",
    "https://github.com/oreilly-japan/deep-learning-from-scratch-2\n",
    "  \n",
    "・machine learning  \n",
    "機械学習帳  \n",
    "https://chokkan.github.io/mlnote/index.html "
   ]
  },
  {
   "cell_type": "markdown",
   "metadata": {},
   "source": []
  }
 ],
 "metadata": {
  "kernelspec": {
   "display_name": "Python 3",
   "language": "python",
   "name": "python3"
  },
  "language_info": {
   "codemirror_mode": {
    "name": "ipython",
    "version": 3
   },
   "file_extension": ".py",
   "mimetype": "text/x-python",
   "name": "python",
   "nbconvert_exporter": "python",
   "pygments_lexer": "ipython3",
   "version": "3.9.9"
  },
  "widgets": {
   "application/vnd.jupyter.widget-state+json": {
    "state": {},
    "version_major": 2,
    "version_minor": 0
   }
  }
 },
 "nbformat": 4,
 "nbformat_minor": 4
}