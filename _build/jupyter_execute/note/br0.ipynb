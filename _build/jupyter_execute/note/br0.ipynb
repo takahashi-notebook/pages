{
 "cells": [
  {
   "cell_type": "markdown",
   "metadata": {},
   "source": [
    "# Brewing\n",
    "\n",
    "## 醸造の種類\n",
    "\n",
    "・単行単発酵（ワイン）  \n",
    "　糖分を多く含む原材料を用いて糖化せずに発酵のみを行う発酵方法 \n",
    "  \n",
    "・単行複発行（ビール）  \n",
    "　デンプンを糖化した後に糖分の発酵を行う発酵方法  \n",
    "  \n",
    "・並行複発行（日本酒）  \n",
    "　デンプンの糖化と糖分の発酵を同時に行う発酵方法  \n"
   ]
  },
  {
   "cell_type": "markdown",
   "metadata": {},
   "source": []
  }
 ],
 "metadata": {
  "kernelspec": {
   "display_name": "Python 3",
   "language": "python",
   "name": "python3"
  },
  "language_info": {
   "codemirror_mode": {
    "name": "ipython",
    "version": 3
   },
   "file_extension": ".py",
   "mimetype": "text/x-python",
   "name": "python",
   "nbconvert_exporter": "python",
   "pygments_lexer": "ipython3",
   "version": "3.9.9"
  },
  "widgets": {
   "application/vnd.jupyter.widget-state+json": {
    "state": {},
    "version_major": 2,
    "version_minor": 0
   }
  }
 },
 "nbformat": 4,
 "nbformat_minor": 4
}