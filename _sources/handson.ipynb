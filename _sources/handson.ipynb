{
 "cells": [
  {
   "cell_type": "markdown",
   "metadata": {},
   "source": [
    "# hands on\n",
    "\n",
    "## 仮想環境\n",
    "venvで仮想環境を作成する  \n",
    "python3.10 -m venv .**** (例：.venv)  \n",
    "  \n",
    "仮想環境を反映する  \n",
    "source .venv/bin/activate  \n",
    "  \n",
    "仮想環境から出る  \n",
    "deactivate  \n",
    "    \n",
    "ライブラリの出力  \n",
    "pip3 freeze > requirements.txt  \n",
    "  \n",
    "ライブラリ出力リストをインストール  \n",
    "pip3 install -r requirements.txt  \n",
    "  \n",
    "## notebook  \n",
    "notebookの実行  \n",
    "python3 -m notebook  \n",
    "  \n",
    "## Jupyter Book\n",
    "Jupyter Book インストールの作成  \n",
    "jb create xxx  \n",
    "  \n",
    "Jupyter Bookの更新  \n",
    "jb build --all .  \n",
    "  \n",
    "GitHub Pagesを更新する  \n",
    "ghp-import -n -p -f _build/html  "
   ]
  },
  {
   "cell_type": "markdown",
   "metadata": {},
   "source": []
  }
 ],
 "metadata": {
  "kernelspec": {
   "display_name": "Python 3",
   "language": "python",
   "name": "python3"
  },
  "language_info": {
   "codemirror_mode": {
    "name": "ipython",
    "version": 3
   },
   "file_extension": ".py",
   "mimetype": "text/x-python",
   "name": "python",
   "nbconvert_exporter": "python",
   "pygments_lexer": "ipython3",
   "version": "3.8.0"
  },
  "widgets": {
   "application/vnd.jupyter.widget-state+json": {
    "state": {},
    "version_major": 2,
    "version_minor": 0
   }
  }
 },
 "nbformat": 4,
 "nbformat_minor": 4
}
