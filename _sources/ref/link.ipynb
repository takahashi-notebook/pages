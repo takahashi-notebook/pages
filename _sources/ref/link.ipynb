{
 "cells": [
  {
   "cell_type": "markdown",
   "metadata": {},
   "source": [
    "# リンク集\n",
    "\n",
    "・machine learning  \n",
    "機械学習帳  \n",
    "https://chokkan.github.io/mlnote/index.html \n",
    "\n",
    "・Block Chain 1.0    \n",
    "Mastering Bitcoin  \n",
    "https://github.com/bitcoinbook/bitcoinbook\n",
    "\n",
    "・Block Chain 2.0    \n",
    "Mastering Ethereum  \n",
    "https://github.com/ethereumbook/ethereumbook/blob/develop/book.asciidoc  \n",
    "https://cypherpunks-core.github.io/ethereumbook/11oracles.html\n",
    "  \n",
    "・Quantum Computing  \n",
    "Qiskitを使った量子計算の学習  \n",
    "https://qiskit.org/textbook/ja/preface.html\n",
    "  \n",
    "・Quantum Computing  \n",
    "量子コンピューティング・ワークブック   \n",
    "https://utokyo-icepp.github.io/qc-workbook/welcome.html\n",
    "\n",
    "・Quantum Computing  \n",
    "algorithm zoo  \n",
    "https://quantumalgorithmzoo.org\n"
   ]
  },
  {
   "cell_type": "markdown",
   "metadata": {},
   "source": []
  }
 ],
 "metadata": {
  "kernelspec": {
   "display_name": "Python 3",
   "language": "python",
   "name": "python3"
  },
  "language_info": {
   "codemirror_mode": {
    "name": "ipython",
    "version": 3
   },
   "file_extension": ".py",
   "mimetype": "text/x-python",
   "name": "python",
   "nbconvert_exporter": "python",
   "pygments_lexer": "ipython3",
   "version": "3.8.0"
  },
  "widgets": {
   "application/vnd.jupyter.widget-state+json": {
    "state": {},
    "version_major": 2,
    "version_minor": 0
   }
  }
 },
 "nbformat": 4,
 "nbformat_minor": 4
}
