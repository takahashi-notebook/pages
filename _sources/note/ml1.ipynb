{
 "cells": [
  {
   "cell_type": "markdown",
   "metadata": {},
   "source": [
    "# Liner Regression\n",
    "\n",
    "Regression\n",
    "データに対してモデルの誤差を最小にする  \n",
    "  \n",
    "Regressionの種類  \n",
    "・Liner Regression  \n",
    "　　1つの特徴量  \n",
    "・Multiple Liner Regression  \n",
    "　　複数の特徴量  \n",
    "・Polynomial Regression  \n",
    "　　複数の特徴量の掛け合わせた組み合わせ"
   ]
  },
  {
   "cell_type": "markdown",
   "metadata": {},
   "source": []
  }
 ],
 "metadata": {
  "kernelspec": {
   "display_name": "Python 3",
   "language": "python",
   "name": "python3"
  },
  "language_info": {
   "codemirror_mode": {
    "name": "ipython",
    "version": 3
   },
   "file_extension": ".py",
   "mimetype": "text/x-python",
   "name": "python",
   "nbconvert_exporter": "python",
   "pygments_lexer": "ipython3",
   "version": "3.8.0"
  },
  "widgets": {
   "application/vnd.jupyter.widget-state+json": {
    "state": {},
    "version_major": 2,
    "version_minor": 0
   }
  }
 },
 "nbformat": 4,
 "nbformat_minor": 4
}
