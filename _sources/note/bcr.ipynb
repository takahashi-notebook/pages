{
 "cells": [
  {
   "cell_type": "markdown",
   "metadata": {},
   "source": [
    "# 参考文献\n",
    "\n",
    "Jimmy Song, 中川 卓俊(監訳), 住田 和則(監訳), 中村 昭雄(監訳), 星野 靖子(翻訳)  \n",
    "プログラミング・ビットコイン  \n",
    "O'Reilly Japan  \n",
    "https://github.com/jimmysong/programmingbitcoin\n",
    "  \n",
    "Kevin Solorio, Randall Kanna, David H. Hoover, 中城 元臣(監訳), 株式会社クイープ(翻訳)  \n",
    "SolidityとEthereumによる実践スマートコントラクト開発  \n",
    "O'Reilly Japan  \n",
    "https://github.com/RedSquirrelTech/hoscdev\n",
    "\n",
    "Mastering Bitcoin  \n",
    "https://github.com/bitcoinbook/bitcoinbook\n",
    "\n",
    "Mastering Ethereum  \n",
    "https://github.com/ethereumbook/ethereumbook/blob/develop/book.asciidoc  \n",
    "https://cypherpunks-core.github.io/ethereumbook/11oracles.html\n"
   ]
  },
  {
   "cell_type": "markdown",
   "metadata": {},
   "source": []
  }
 ],
 "metadata": {
  "kernelspec": {
   "display_name": "Python 3",
   "language": "python",
   "name": "python3"
  },
  "language_info": {
   "codemirror_mode": {
    "name": "ipython",
    "version": 3
   },
   "file_extension": ".py",
   "mimetype": "text/x-python",
   "name": "python",
   "nbconvert_exporter": "python",
   "pygments_lexer": "ipython3",
   "version": "3.8.0"
  },
  "widgets": {
   "application/vnd.jupyter.widget-state+json": {
    "state": {},
    "version_major": 2,
    "version_minor": 0
   }
  }
 },
 "nbformat": 4,
 "nbformat_minor": 4
}
