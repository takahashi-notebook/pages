{
 "cells": [
  {
   "cell_type": "markdown",
   "metadata": {},
   "source": [
    "# Qiskit"
   ]
  },
  {
   "cell_type": "markdown",
   "metadata": {},
   "source": [
    "## IBM Q System One  \n",
    "https://quantum-computing.ibm.com\n",
    "超電導振動子を利用している量子コンピューターのため、  \n",
    "使用できるゲートは1つか2に限られる。\n",
    "組み合わせによりn-qbitの任意な状態を実現できる。\n",
    "\n",
    "右端のqビットを1番目とする＝binary表記と同じ"
   ]
  },
  {
   "cell_type": "markdown",
   "metadata": {},
   "source": [
    "# Flow\n",
    "・計算に使用する量子ビット数を決める。\n",
    "・量子ビットにゲートをかけて、量子回路を作る。\n",
    "・回路を実行して計算結果を得る。"
   ]
  }
 ],
 "metadata": {
  "kernelspec": {
   "display_name": "Python 3",
   "language": "python",
   "name": "python3"
  },
  "language_info": {
   "codemirror_mode": {
    "name": "ipython",
    "version": 3
   },
   "file_extension": ".py",
   "mimetype": "text/x-python",
   "name": "python",
   "nbconvert_exporter": "python",
   "pygments_lexer": "ipython3",
   "version": "3.8.0"
  },
  "widgets": {
   "application/vnd.jupyter.widget-state+json": {
    "state": {},
    "version_major": 2,
    "version_minor": 0
   }
  }
 },
 "nbformat": 4,
 "nbformat_minor": 4
}
