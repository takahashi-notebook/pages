{
 "cells": [
  {
   "cell_type": "markdown",
   "metadata": {},
   "source": [
    "# python計算用ライブラリ\n",
    "\n",
    "## tensor flow\n",
    "\n",
    "## qiskit  \n",
    "qiskitのインストール  \n",
    "pip3 install qiskit  \n",
    "pip3 install qiskit[visualization]  \n",
    "pip install 'qiskit[visualization]' # zshの場合  \n",
    "\n",
    "バージョン確認  \n",
    "qiskit.__qiskit_version__  \n",
    "\n",
    "qiskit notebookのインストール  \n",
    "pip3 install --user git+https://github.com/qiskit-community/qiskit-textbook.git#subdirectory=qiskit-textbook-src  \n",
    "\n",
    "描写ツールをmatplotlibに設定する  \n",
    "settings.conf ファイル(~/.qiskit/)を作成  \n",
    "circuit_drawer = mpl  \n",
    "  \n",
    "画像タイプをSVGに設定する  \n",
    "ipython_kernel_config.pyファイル(通常は~/.ipython/profile_default/)を作成  \n",
    "c.InlineBackend.figure_format = 'svg'  \n",
    "\n",
    "## D-Wave\n",
    "\n",
    "\n"
   ]
  },
  {
   "cell_type": "markdown",
   "metadata": {},
   "source": []
  }
 ],
 "metadata": {
  "kernelspec": {
   "display_name": "Python 3",
   "language": "python",
   "name": "python3"
  },
  "language_info": {
   "codemirror_mode": {
    "name": "ipython",
    "version": 3
   },
   "file_extension": ".py",
   "mimetype": "text/x-python",
   "name": "python",
   "nbconvert_exporter": "python",
   "pygments_lexer": "ipython3",
   "version": "3.8.0"
  },
  "widgets": {
   "application/vnd.jupyter.widget-state+json": {
    "state": {},
    "version_major": 2,
    "version_minor": 0
   }
  }
 },
 "nbformat": 4,
 "nbformat_minor": 4
}
