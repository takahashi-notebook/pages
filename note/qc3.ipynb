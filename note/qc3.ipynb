{
 "cells": [
  {
   "cell_type": "markdown",
   "metadata": {},
   "source": [
    "# Quantum Computing \n",
    "\n",
    "・量子アニーリング方式  \n",
    "\n",
    "Ising Model  \n",
    "↑=1, ↓=-1  \n",
    "E_ising = Σ hi * si +  Σ Jij * si * sj  \n",
    "\n",
    "QUBO\n",
    "True = 1, False = 0  \n",
    "f(x) = Σ Qii * xi +  Σ Qij * xi * xj  \n",
    "min x^T * Q * x  \n",
    "\n",
    "transform QUBO to Ising\n",
    "s = 2 * q -1"
   ]
  },
  {
   "cell_type": "markdown",
   "metadata": {},
   "source": []
  }
 ],
 "metadata": {
  "kernelspec": {
   "display_name": "Python 3",
   "language": "python",
   "name": "python3"
  },
  "language_info": {
   "codemirror_mode": {
    "name": "ipython",
    "version": 3
   },
   "file_extension": ".py",
   "mimetype": "text/x-python",
   "name": "python",
   "nbconvert_exporter": "python",
   "pygments_lexer": "ipython3",
   "version": "3.8.0"
  },
  "widgets": {
   "application/vnd.jupyter.widget-state+json": {
    "state": {},
    "version_major": 2,
    "version_minor": 0
   }
  }
 },
 "nbformat": 4,
 "nbformat_minor": 4
}
