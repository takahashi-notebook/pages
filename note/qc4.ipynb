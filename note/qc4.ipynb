{
 "cells": [
  {
   "cell_type": "markdown",
   "metadata": {},
   "source": [
    "# Networks\n",
    "  \n",
    "・social and economic  \n",
    "・information  \n",
    "・technology  \n",
    "・biological  \n",
    "  \n",
    "有向グラフ gij = gji = 1  \n",
    "無向グラフ gij = 1 , gji = 0  \n",
    "  \n",
    "Ising Model  \n",
    "E_ising = Σ hi * si +  Σ Jij * si * sj  \n",
    "si = 1 or -1  \n",
    "\n",
    "QUBO\n",
    "True = 1, False = 0  \n",
    "f(x) = Σ Qii * xi +  Σ Qij * xi * xj  \n",
    "\n",
    "transform Ising to QUBO\n",
    "xi = (si + 1)/2  \n",
    "hi = Qii/2 + Σ Qij /4\n",
    "Jij = Qij /4\n",
    "\n",
    "量子アニーリング用のライブラリ\n",
    "PyQUBO  \n",
    "dimod  "
   ]
  },
  {
   "cell_type": "markdown",
   "metadata": {},
   "source": []
  }
 ],
 "metadata": {
  "kernelspec": {
   "display_name": "Python 3",
   "language": "python",
   "name": "python3"
  },
  "language_info": {
   "codemirror_mode": {
    "name": "ipython",
    "version": 3
   },
   "file_extension": ".py",
   "mimetype": "text/x-python",
   "name": "python",
   "nbconvert_exporter": "python",
   "pygments_lexer": "ipython3",
   "version": "3.8.0"
  },
  "widgets": {
   "application/vnd.jupyter.widget-state+json": {
    "state": {},
    "version_major": 2,
    "version_minor": 0
   }
  }
 },
 "nbformat": 4,
 "nbformat_minor": 4
}
