{
 "cells": [
  {
   "cell_type": "markdown",
   "metadata": {},
   "source": [
    "# coupler in Dwave\n",
    "\n",
    "each qbit has bias, coupler interact other qbit.\n",
    "User select bias value and coupler value.\n",
    "bias and coupler define landscape.\n",
    "Dwave find minimum energy in the land scape.\n",
    "\n",
    "For most non-convex Hamiltonian's dfinding the minimum energy state is an NP-hard problem that classical computers cannot solve effectively.\n",
    "\n",
    "For quantum system, a hamilton is a function that maps certain states, called eigen states, to energy. Only when the system is in an eigen state of　Hamiltonian is its energy well defined and called the eigen energy when the system is in any other state, its energy is uncertain.\n",
    "\n",
    "The collection of eigen states with defined eigen energies make up the eigen spectrum.\n",
    "\n",
    "For the Dwave quantum computer the Hamiltonian maybe represented as \n",
    "Hising = -A(s)/2 Σ σx^i + B(s)/2 (Σ hi * σz^i + Σ Jij * σz^i * σz^j)\n",
    "first term is called initial Hamiltonian  \n",
    "second term is called final Hamiltonian  \n",
    "\n",
    "σ is pauli matrices\n",
    "hi and Jij are q-bit bias and coupler strength.\n",
    "\n",
    "initial Hamilktonian\n",
    "all qbits are in superpodition state of 0 and 1.\n",
    "This term is also called the tunnelling Hamiltonian.\n",
    "\n",
    "Final Hamiltonian (Problem Hamiltonian)\n",
    "The low-energy state if this Hamiltonian is the answer to the problrm\n",
    "that you are trying to solve\n",
    "\n",
    "# quantum anealing\n",
    "最適化問題　エネルギーの最小化問題にする　→ 低エネルギー状態を見つける装置で解く\n",
    "サンプリング　多くの低エネルギー状態からサンプリング　Energy landscape　を特徴づける\n",
    "Energy base の分布からサンプリング\n",
    "\n",
    "Dwave １q-bit 超伝導　loop minimum energy state\n",
    "CW ↓ = 0\n",
    "CCW ↑ = 1\n",
    "superposition at same time\n",
    "\n",
    "after quantum annealing\n",
    "after quantum annealing process quantum bit has 0 or 1.\n",
    "\n",
    "external magnetic field is programmable, called bias.\n",
    "\n",
    "coupler interract othe qbit is programmable\n"
   ]
  },
  {
   "cell_type": "markdown",
   "metadata": {},
   "source": []
  }
 ],
 "metadata": {
  "kernelspec": {
   "display_name": "Python 3",
   "language": "python",
   "name": "python3"
  },
  "language_info": {
   "codemirror_mode": {
    "name": "ipython",
    "version": 3
   },
   "file_extension": ".py",
   "mimetype": "text/x-python",
   "name": "python",
   "nbconvert_exporter": "python",
   "pygments_lexer": "ipython3",
   "version": "3.8.0"
  },
  "widgets": {
   "application/vnd.jupyter.widget-state+json": {
    "state": {},
    "version_major": 2,
    "version_minor": 0
   }
  }
 },
 "nbformat": 4,
 "nbformat_minor": 4
}
