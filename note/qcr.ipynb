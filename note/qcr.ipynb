{
 "cells": [
  {
   "cell_type": "markdown",
   "metadata": {},
   "source": [
    "# 参考文献\n",
    "\n",
    "Qiskitを使った量子計算の学習  \n",
    "https://qiskit.org/textbook/ja/preface.html\n",
    "   \n",
    "量子コンピューティング・ワークブック   \n",
    "https://utokyo-icepp.github.io/qc-workbook/welcome.html\n",
    "\n",
    "Quantum Native Dojo  \n",
    "https://dojo.qulacs.org/ja/latest/index.html  \n",
    "\n",
    "algorithm zoo  \n",
    "https://quantumalgorithmzoo.org\n",
    "\n",
    "D-Wave Japan  \n",
    "https://dwavejapan.com/system/\n",
    "\n",
    "Amplify  \n",
    "https://amplify.fixstars.com/ja/techresources/about-quantum-computer/\n",
    "\n",
    "# Quantum Computing\n",
    "\n",
    "IBM Quantum  \n",
    "https://quantum-computing.ibm.com/login\n",
    "\n",
    "D-Wave  \n",
    "https://cloud.dwavesys.com/leap/login/?next=/leap/\n"
   ]
  },
  {
   "cell_type": "markdown",
   "metadata": {},
   "source": []
  }
 ],
 "metadata": {
  "kernelspec": {
   "display_name": "Python 3",
   "language": "python",
   "name": "python3"
  },
  "language_info": {
   "codemirror_mode": {
    "name": "ipython",
    "version": 3
   },
   "file_extension": ".py",
   "mimetype": "text/x-python",
   "name": "python",
   "nbconvert_exporter": "python",
   "pygments_lexer": "ipython3",
   "version": "3.8.0"
  },
  "widgets": {
   "application/vnd.jupyter.widget-state+json": {
    "state": {},
    "version_major": 2,
    "version_minor": 0
   }
  }
 },
 "nbformat": 4,
 "nbformat_minor": 4
}
