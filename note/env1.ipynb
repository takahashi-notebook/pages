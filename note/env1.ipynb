{
 "cells": [
  {
   "cell_type": "markdown",
   "metadata": {},
   "source": [
    "# 環境設定\n",
    "\n",
    "環境変数の確認  \n",
    "env\n",
    "  \n",
    "shellのバージョン  \n",
    "echo $SHELL  \n",
    "  \n",
    "シェルのリスト  \n",
    "$ cat /etc/shells  \n",
    "  \n",
    "zshへの切り替え  \n",
    "chsh -s /bin/zsh  \n",
    "  \n",
    "ホームディレクトリに移動し設定ファイルを作る  \n",
    "cd  \n",
    "touch .zshrc（zshの場合）  \n",
    "  \n",
    "pathの確認  \n",
    "echo $PATH  \n",
    "\n",
    "パスの設定\n",
    "export PATH=$PATH：<追加したいPATH>\n",
    "\n",
    "パスの更新\n",
    "source ~/.zhsrc\n",
    "\n",
    "vi で編集する場合  \n",
    "vi directory/folder  \n",
    "\n",
    "viのコマンド\n",
    "i , insert  \n",
    "x , delete  \n",
    ":q , quit  \n",
    ":q! , force-quit  \n",
    ":w , write  \n",
    ":wq , write and quit  \n"
   ]
  },
  {
   "cell_type": "markdown",
   "metadata": {},
   "source": []
  }
 ],
 "metadata": {
  "kernelspec": {
   "display_name": "Python 3",
   "language": "python",
   "name": "python3"
  },
  "language_info": {
   "codemirror_mode": {
    "name": "ipython",
    "version": 3
   },
   "file_extension": ".py",
   "mimetype": "text/x-python",
   "name": "python",
   "nbconvert_exporter": "python",
   "pygments_lexer": "ipython3",
   "version": "3.8.0"
  },
  "widgets": {
   "application/vnd.jupyter.widget-state+json": {
    "state": {},
    "version_major": 2,
    "version_minor": 0
   }
  }
 },
 "nbformat": 4,
 "nbformat_minor": 4
}
