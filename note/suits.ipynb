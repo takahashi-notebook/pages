{
 "cells": [
  {
   "cell_type": "markdown",
   "metadata": {},
   "source": [
    "# Suits\n",
    "\n",
    "\n",
    "\n",
    "フォーマルはツヤ　シワを出さない  \n",
    "サイズ感　シワをださないようにフィットさせる  \n",
    "\n",
    "デザイン　ビジネススーツ　シングルジャケット ワイシャツセミワイド\n",
    "色　ネイビー　ブラック　グレー\n",
    "シルエット　オーダー\n",
    "\n",
    "ストレッチウール　スーツ\n",
    "スーパーノンアイロンシャツ　\n",
    "\n",
    "パンツと 靴下靴 の明暗を合わせる\n",
    "\n",
    "ジャケットの裾　\n",
    "ジャケットの袖　腕を下ろして親指まで9-12cm\n",
    "ジャケット着丈　お尻にかかるくらい\n",
    "パンツの裾先　シワがつかないように短めするが靴下が見えないようにする。\n",
    "　ワンクッション　\n",
    "　ハーフクッション　\n",
    "　ノークッション　"
   ]
  },
  {
   "cell_type": "markdown",
   "metadata": {},
   "source": []
  }
 ],
 "metadata": {
  "kernelspec": {
   "display_name": "Python 3",
   "language": "python",
   "name": "python3"
  },
  "language_info": {
   "codemirror_mode": {
    "name": "ipython",
    "version": 3
   },
   "file_extension": ".py",
   "mimetype": "text/x-python",
   "name": "python",
   "nbconvert_exporter": "python",
   "pygments_lexer": "ipython3",
   "version": "3.8.0"
  },
  "widgets": {
   "application/vnd.jupyter.widget-state+json": {
    "state": {},
    "version_major": 2,
    "version_minor": 0
   }
  }
 },
 "nbformat": 4,
 "nbformat_minor": 4
}
