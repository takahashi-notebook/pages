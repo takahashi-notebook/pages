{
 "cells": [
  {
   "cell_type": "markdown",
   "metadata": {},
   "source": [
    "# 機械学習\n",
    "\n",
    "機械学習は以下の４つに分類される  \n",
    "・教師あり  \n",
    "・教師なし  \n",
    "・半教師あり  \n",
    "・強化学習  \n",
    "  \n",
    "教師あり機械学習はデータセットに答えがある場合のこと。    \n",
    "答えが何かの値か複数ある候補の分類かにより、回帰と分類に分けられる。  \n",
    "機械学習によりデータセットに対するモデルのパラメータを評価基準を用いて最適化する。  \n",
    "  \n",
    "教師あり機械学習の準備  \n",
    "・データセットを準備する。データセットが大きい場合は一度に計算できないので分割する必要がある。  \n",
    "・モデルを決める。モデルのパラメータの初期値を決める。  \n",
    "  \n",
    "教師あり機械学習としてやること  \n",
    "・データセットを選択する。  \n",
    "・選択したデータセットでの評価基準が良くなる方向のパラメータの方向を計算する。  \n",
    "・パラメータを更新する  \n",
    "\n"
   ]
  },
  {
   "cell_type": "markdown",
   "metadata": {},
   "source": []
  }
 ],
 "metadata": {
  "kernelspec": {
   "display_name": "Python 3",
   "language": "python",
   "name": "python3"
  },
  "language_info": {
   "codemirror_mode": {
    "name": "ipython",
    "version": 3
   },
   "file_extension": ".py",
   "mimetype": "text/x-python",
   "name": "python",
   "nbconvert_exporter": "python",
   "pygments_lexer": "ipython3",
   "version": "3.8.0"
  },
  "widgets": {
   "application/vnd.jupyter.widget-state+json": {
    "state": {},
    "version_major": 2,
    "version_minor": 0
   }
  }
 },
 "nbformat": 4,
 "nbformat_minor": 4
}
